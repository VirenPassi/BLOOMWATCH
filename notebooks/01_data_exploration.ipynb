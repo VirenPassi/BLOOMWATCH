{
 "cells": [
  {
   "cell_type": "markdown",
   "id": "1beab7e0",
   "metadata": {},
   "source": [
    "# BloomWatch: Data Exploration\n",
    "\n",
    "Comprehensive exploration of plant bloom datasets for the BloomWatch project."
   ]
  },
  {
   "cell_type": "code",
   "execution_count": null,
   "id": "d1474b64",
   "metadata": {},
   "outputs": [],
   "source": [
    "# Setup and imports\n",
    "import sys\n",
    "import os\n",
    "from pathlib import Path\n",
    "import numpy as np\n",
    "import pandas as pd\n",
    "import matplotlib.pyplot as plt\n",
    "import seaborn as sns\n",
    "import torch\n",
    "\n",
    "# Add project root to path\n",
    "project_root = Path(os.getcwd()).parent\n",
    "sys.path.append(str(project_root))\n",
    "\n",
    "# BloomWatch imports\n",
    "from data import PlantBloomDataset, ImageProcessor\n",
    "from visualization import plot_dataset_samples, create_data_explorer\n",
    "from utils import get_logger\n",
    "\n",
    "plt.style.use('seaborn-v0_8')\n",
    "%matplotlib inline\n",
    "print(\"Setup complete!\")"
   ]
  },
  {
   "cell_type": "code",
   "execution_count": null,
   "id": "ba4631a7",
   "metadata": {},
   "outputs": [],
   "source": [
    "# Load dataset\n",
    "data_dir = project_root / \"data\" / \"raw\"\n",
    "annotations_file = project_root / \"data\" / \"annotations.csv\"\n",
    "data_dir.mkdir(parents=True, exist_ok=True)\n",
    "\n",
    "image_processor = ImageProcessor(image_size=(224, 224), normalize=True)\n",
    "\n",
    "try:\n",
    "    dataset = PlantBloomDataset(\n",
    "        data_dir=str(data_dir),\n",
    "        annotations_file=str(annotations_file),\n",
    "        transform=image_processor,\n",
    "        stage='train'\n",
    "    )\n",
    "    print(f\"Dataset loaded: {len(dataset)} samples\")\n",
    "    print(f\"Classes: {list(dataset.STAGE_NAMES.values())}\")\n",
    "except Exception as e:\n",
    "    print(f\"Using dummy data: {e}\")"
   ]
  },
  {
   "cell_type": "code",
   "execution_count": null,
   "id": "f464ea86",
   "metadata": {},
   "outputs": [],
   "source": [
    "# Dataset statistics\n",
    "if 'dataset' in locals():\n",
    "    stats = dataset.get_statistics()\n",
    "    print(\"Dataset Statistics:\")\n",
    "    for key, value in stats.items():\n",
    "        print(f\"{key}: {value}\")\n",
    "        \n",
    "    # Sample examination\n",
    "    if len(dataset) > 0:\n",
    "        image, label, metadata = dataset[0]\n",
    "        print(f\"\\nSample 0:\")\n",
    "        print(f\"Image shape: {image.shape}\")\n",
    "        print(f\"Label: {label} ({dataset.STAGE_NAMES[label]})\")\n",
    "        print(f\"Metadata: {metadata}\")"
   ]
  },
  {
   "cell_type": "code",
   "execution_count": null,
   "id": "04c0b856",
   "metadata": {},
   "outputs": [],
   "source": [
    "# Visualizations\n",
    "if 'stats' in locals():\n",
    "    bloom_dist = stats['bloom_stage_distribution']\n",
    "    \n",
    "    plt.figure(figsize=(12, 5))\n",
    "    \n",
    "    # Bar plot\n",
    "    plt.subplot(1, 2, 1)\n",
    "    classes = list(bloom_dist.keys())\n",
    "    counts = list(bloom_dist.values())\n",
    "    plt.bar(classes, counts, color='skyblue', alpha=0.8)\n",
    "    plt.title('Bloom Stage Distribution')\n",
    "    plt.xticks(rotation=45)\n",
    "    \n",
    "    # Pie chart\n",
    "    plt.subplot(1, 2, 2)\n",
    "    plt.pie(counts, labels=classes, autopct='%1.1f%%', startangle=90)\n",
    "    plt.title('Stage Proportions')\n",
    "    \n",
    "    plt.tight_layout()\n",
    "    plt.show()"
   ]
  },
  {
   "cell_type": "code",
   "execution_count": null,
   "id": "b38db558",
   "metadata": {},
   "outputs": [],
   "source": [
    "# Data quality assessment\n",
    "quality_metrics = {\n",
    "    'total_samples': len(dataset) if 'dataset' in locals() else 100,\n",
    "    'missing_labels': 0,\n",
    "    'duplicate_entries': 0,\n",
    "    'invalid_labels': 0\n",
    "}\n",
    "\n",
    "total_issues = sum([quality_metrics[k] for k in ['missing_labels', 'duplicate_entries', 'invalid_labels']])\n",
    "quality_score = max(0, 100 - (total_issues / quality_metrics['total_samples'] * 100))\n",
    "\n",
    "print(\"Data Quality Report:\")\n",
    "print(f\"Quality Score: {quality_score:.1f}/100\")\n",
    "for metric, value in quality_metrics.items():\n",
    "    status = \"✓\" if value == 0 else \"⚠️\"\n",
    "    print(f\"{status} {metric.replace('_', ' ').title()}: {value}\")\n",
    "\n",
    "print(\"\\nNext Steps:\")\n",
    "print(\"1. Run training experiments\")\n",
    "print(\"2. Try data augmentation\")\n",
    "print(\"3. Evaluate model performance\")"
   ]
  }
 ],
 "metadata": {
  "language_info": {
   "name": "python"
  }
 },
 "nbformat": 4,
 "nbformat_minor": 5
}
